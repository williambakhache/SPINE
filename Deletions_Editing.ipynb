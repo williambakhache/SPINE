{
 "cells": [
  {
   "cell_type": "code",
   "execution_count": 66,
   "id": "d5faadcf",
   "metadata": {},
   "outputs": [],
   "source": [
    "from Bio import SeqIO\n",
    "from Bio.Seq import Seq\n",
    "from Bio.SeqRecord import SeqRecord\n",
    "import re\n",
    "#Global variable\n",
    "MolHandle = re.compile(\"AGCGGGAGACCGGGGTCTCTGAGC\")\n",
    "DelSize=3"
   ]
  },
  {
   "cell_type": "code",
   "execution_count": 67,
   "id": "07879136",
   "metadata": {},
   "outputs": [],
   "source": [
    "#Definitions\n",
    "def readInFile(inFileName):\n",
    "    seqs=[]\n",
    "    names=[]\n",
    "    with open(inFileName) as handle:\n",
    "        for record in SeqIO.parse(handle, \"fasta\"):\n",
    "            seqs.append(record.seq)\n",
    "            names.append(record.id)\n",
    "            names=[name.replace(\"insertion\",\"deletion\") for name in names]\n",
    "    return(names,seqs)\n",
    "\n",
    "def editSeqs(seqs):\n",
    "    matches=[MolHandle.search(str(seq[i])) for i in range(len(seq))]\n",
    "    boundaries=[(match.start(0),match.end(0)) for match in matches]\n",
    "    newSeqs=[str(seq[i][0:boundaries[i][0]]+seq[i][(boundaries[i][1]+DelSize):len(seq[i])]) for i in range(len(seq))]\n",
    "    return(newSeqs)\n",
    "\n",
    "def outputSeqs(newSeqs,names):\n",
    "    \n",
    "    sequences=[SeqRecord(Seq(newSeqs[i]),id=names[i],description=\"\") for i in range(len(newSeqs))]\n",
    "    \n",
    "    with open(\"example.fasta\", \"w\") as output_handle:\n",
    "        SeqIO.write(sequences, output_handle, \"fasta\")"
   ]
  },
  {
   "cell_type": "code",
   "execution_count": 68,
   "id": "bb861a60",
   "metadata": {},
   "outputs": [],
   "source": [
    "#Main\n",
    "names, seq = readInFile(\"./Oligopool_with_ATG_inclusion/EV-D8_Fermon_Insertion_library_300_oligo_len_MOD_TO_INCLUDE_ATG/Capsid_DI_Oligos.fasta\")\n",
    "newSeqs=editSeqs(seq)\n",
    "outputSeqs(newSeqs,names)"
   ]
  },
  {
   "cell_type": "code",
   "execution_count": null,
   "id": "2d23bde2",
   "metadata": {},
   "outputs": [],
   "source": []
  }
 ],
 "metadata": {
  "kernelspec": {
   "display_name": "Python 3 (ipykernel)",
   "language": "python",
   "name": "python3"
  },
  "language_info": {
   "codemirror_mode": {
    "name": "ipython",
    "version": 3
   },
   "file_extension": ".py",
   "mimetype": "text/x-python",
   "name": "python",
   "nbconvert_exporter": "python",
   "pygments_lexer": "ipython3",
   "version": "3.9.7"
  }
 },
 "nbformat": 4,
 "nbformat_minor": 5
}
